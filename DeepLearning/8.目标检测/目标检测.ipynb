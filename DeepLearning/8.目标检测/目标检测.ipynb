{
 "cells": [
  {
   "cell_type": "markdown",
   "metadata": {},
   "source": [
    "1.使用TensorFlow实现IOU计算"
   ]
  },
  {
   "cell_type": "code",
   "execution_count": 1,
   "metadata": {},
   "outputs": [],
   "source": [
    "import tensorflow as tf\n",
    "def calc_iou(box1,box2):\n",
    "    left_up = tf.maximum(box1[:2],box2[:2])\n",
    "    right_down = tf.minimum(box1[2:],box2[2:])\n",
    "    intersection = tf.maximum(0.,right_down - left_up)\n",
    "    inter_square = intersection[0] * intersection[1]\n",
    "    \n",
    "    box1_square = (box1[2] - box1[0]) * (box1[3] - box1[1])\n",
    "    box2_square = (box2[2] - box2[0]) * (box2[3] - box2[1])\n",
    "    \n",
    "    iou = inter_square / (box1_square + box2_square - inter_square + 1e-8)\n",
    "    \n",
    "    return iou"
   ]
  },
  {
   "cell_type": "code",
   "execution_count": 2,
   "metadata": {},
   "outputs": [
    {
     "name": "stdout",
     "output_type": "stream",
     "text": [
      "0.060606062\n",
      "0.0\n"
     ]
    }
   ],
   "source": [
    "with tf.Session() as sess:\n",
    "    iou = calc_iou([10.,20.,60.,60.],[50.,40.,80.,90.])\n",
    "    print(sess.run(iou))\n",
    "    iou = calc_iou([10.,20.,40.,60.],[50.,40.,80.,90.])\n",
    "    print(sess.run(iou))"
   ]
  },
  {
   "cell_type": "markdown",
   "metadata": {},
   "source": [
    "2.计算AP，mAP"
   ]
  },
  {
   "cell_type": "code",
   "execution_count": 3,
   "metadata": {},
   "outputs": [
    {
     "data": {
      "text/plain": [
       "1.0"
      ]
     },
     "execution_count": 3,
     "metadata": {},
     "output_type": "execute_result"
    }
   ],
   "source": [
    "import sklearn.metrics as metrics\n",
    "metrics.average_precision_score([0,0,1,1,1],[0.2,0.4,0.5,0.52,0.9])"
   ]
  },
  {
   "cell_type": "code",
   "execution_count": 4,
   "metadata": {},
   "outputs": [
    {
     "data": {
      "text/plain": [
       "0.7916666666666667"
      ]
     },
     "execution_count": 4,
     "metadata": {},
     "output_type": "execute_result"
    }
   ],
   "source": [
    "AP1 = metrics.average_precision_score([0,0,1],[0.2,0.1,0.7])\n",
    "AP2 = metrics.average_precision_score([1,0,0],[0.4,0.5,0.1])\n",
    "AP3 = metrics.average_precision_score([0,0,1],[0.1,0.15,0.75])\n",
    "AP4 = metrics.average_precision_score([1,0,0],[0.3,0.4,0.3])\n",
    "AP5 = metrics.average_precision_score([0,1,0],[0.6,0.3,0.1])\n",
    "AP6 = metrics.average_precision_score([0,1,0],[0.25,0.65,0.1])\n",
    "AP7 = metrics.average_precision_score([1,0,0],[0.9,0.05,0.05])\n",
    "AP8 = metrics.average_precision_score([0,1,0],[0.35,0.45,0.2])\n",
    "mAP = (AP1+AP2+AP3+AP4+AP5+AP6+AP7+AP8)/8\n",
    "mAP"
   ]
  },
  {
   "cell_type": "markdown",
   "metadata": {},
   "source": [
    "3.NMS算法实现"
   ]
  },
  {
   "cell_type": "code",
   "execution_count": 5,
   "metadata": {},
   "outputs": [],
   "source": [
    "#1.使用Numpy实现IOU计算\n",
    "import numpy as np\n",
    "def calc_iou(box1,box2):\n",
    "    left_up = np.maximum(box1[:2],box2[:2])\n",
    "    right_down = np.minimum(box1[2:],box2[2:])\n",
    "    intersection = np.maximum(0.,right_down - left_up)\n",
    "    inter_square = intersection[0] * intersection[1]\n",
    "    \n",
    "    box1_square = (box1[2] - box1[0]) * (box1[3] - box1[1])\n",
    "    box2_square = (box2[2] - box2[0]) * (box2[3] - box2[1])\n",
    "    \n",
    "    iou = inter_square / (box1_square + box2_square - inter_square + 1e-8)\n",
    "    \n",
    "    return iou"
   ]
  },
  {
   "cell_type": "code",
   "execution_count": 6,
   "metadata": {},
   "outputs": [],
   "source": [
    "#2.实现单一类别的NMS计算\n",
    "def nms(boxes,threshold=0.7):\n",
    "    boxes.sort(key=lambda boxes:boxes[4],reverse=True)\n",
    "    res_boxes = []\n",
    "    while(len(boxes) != 0):\n",
    "        res_boxes.append(boxes[0])\n",
    "        del boxes[0]\n",
    "        \n",
    "        keep_num = 0\n",
    "        for i in range(len(boxes)):\n",
    "            iou = calc_iou(res_boxes[-1][0:4],boxes[keep_num][0:4])\n",
    "            if iou > threshold:\n",
    "                del boxes[keep_num]\n",
    "            else:\n",
    "                keep_num += 1\n",
    "    return res_boxes"
   ]
  },
  {
   "cell_type": "code",
   "execution_count": 7,
   "metadata": {},
   "outputs": [
    {
     "name": "stdout",
     "output_type": "stream",
     "text": [
      "[[0, 0, 50, 50, 0.9], [35, 45, 70, 80, 0.7]]\n"
     ]
    }
   ],
   "source": [
    "#3.测试NMS算法\n",
    "boxes = [[0,0,50,50,0.9],\n",
    "         [0,0,60,50,0.85],\n",
    "         [40,40,70,70,0.4],\n",
    "         [35,45,70,80,0.7]]\n",
    "res_boxes = nms(boxes,0.5)\n",
    "print(res_boxes)"
   ]
  },
  {
   "cell_type": "markdown",
   "metadata": {},
   "source": [
    "4.TensorFlow实现代价函数"
   ]
  },
  {
   "cell_type": "code",
   "execution_count": 8,
   "metadata": {},
   "outputs": [],
   "source": [
    "#模拟模型输出与数据标记\n",
    "outputs = tf.random_uniform([2,8],0,1,dtype=tf.float32)\n",
    "labels = tf.constant([[0,0,0,0,0,0,0,0],[1,0.2,0.3,0.3,0.8,0,0,1]],dtype=tf.float32)\n",
    "label_confidence = labels[:,0:1]\n",
    "#根据label_confidence生成掩码\n",
    "mask = tf.concat([tf.ones_like(labels)[:,0:1],\n",
    "                  (tf.ones_like(labels)*label_confidence)[:,1:]],1)\n",
    "#对模型输出进行过滤，使label_confidence==0的模型输出除了置信度以外的值设为0\n",
    "outputs = outputs * mask\n",
    "\n",
    "#使用均方误差代价函数表示代价\n",
    "cost = tf.reduce_mean(tf.square(labels - outputs))"
   ]
  }
 ],
 "metadata": {
  "kernelspec": {
   "display_name": "Python 3",
   "language": "python",
   "name": "python3"
  },
  "language_info": {
   "codemirror_mode": {
    "name": "ipython",
    "version": 3
   },
   "file_extension": ".py",
   "mimetype": "text/x-python",
   "name": "python",
   "nbconvert_exporter": "python",
   "pygments_lexer": "ipython3",
   "version": "3.7.0"
  }
 },
 "nbformat": 4,
 "nbformat_minor": 2
}
