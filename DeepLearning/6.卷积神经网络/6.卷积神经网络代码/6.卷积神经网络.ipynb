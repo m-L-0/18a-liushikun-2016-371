{
 "cells": [
  {
   "cell_type": "code",
   "execution_count": 1,
   "metadata": {},
   "outputs": [],
   "source": [
    "%matplotlib inline\n",
    "\n",
    "import numpy as np\n",
    "from PIL import Image\n",
    "from matplotlib import pyplot as plt\n",
    "\n",
    "import tensorflow as tf\n",
    "from tensorflow.examples.tutorials.mnist import input_data"
   ]
  },
  {
   "cell_type": "code",
   "execution_count": 3,
   "metadata": {},
   "outputs": [
    {
     "name": "stdout",
     "output_type": "stream",
     "text": [
      "Extracting MNIST_data\\train-images-idx3-ubyte.gz\n",
      "Extracting MNIST_data\\train-labels-idx1-ubyte.gz\n",
      "Extracting MNIST_data\\t10k-images-idx3-ubyte.gz\n",
      "Extracting MNIST_data\\t10k-labels-idx1-ubyte.gz\n"
     ]
    }
   ],
   "source": [
    "mnist = input_data.read_data_sets(\n",
    "    'MNIST_data', one_hot=True, reshape=False)"
   ]
  },
  {
   "cell_type": "code",
   "execution_count": 4,
   "metadata": {},
   "outputs": [
    {
     "data": {
      "text/plain": [
       "(55000, 28, 28, 1)"
      ]
     },
     "execution_count": 4,
     "metadata": {},
     "output_type": "execute_result"
    }
   ],
   "source": [
    "mnist.train.images.shape"
   ]
  },
  {
   "cell_type": "code",
   "execution_count": 6,
   "metadata": {},
   "outputs": [
    {
     "name": "stdout",
     "output_type": "stream",
     "text": [
      "step     0, loss 2.5249, acc 0.1389\n",
      "step   500, loss 0.5152, acc 0.8695\n",
      "step  1000, loss 0.2519, acc 0.9092\n",
      "step  1500, loss 0.2390, acc 0.9245\n",
      "step  2000, loss 0.3164, acc 0.9447\n",
      "step  2500, loss 0.3313, acc 0.9421\n",
      "step  3000, loss 0.2031, acc 0.9571\n",
      "step  3500, loss 0.0677, acc 0.9543\n",
      "step  4000, loss 0.1619, acc 0.9618\n",
      "step  4500, loss 0.0909, acc 0.9640\n",
      "step  5000, loss 0.0346, acc 0.9658\n",
      "step  5500, loss 0.0627, acc 0.9691\n",
      "step  6000, loss 0.1395, acc 0.9644\n",
      "step  6500, loss 0.0250, acc 0.9726\n",
      "step  7000, loss 0.1206, acc 0.9708\n",
      "step  7500, loss 0.0171, acc 0.9704\n",
      "step  8000, loss 0.1180, acc 0.9727\n",
      "step  8500, loss 0.0081, acc 0.9702\n",
      "step  9000, loss 0.0846, acc 0.9724\n",
      "step  9500, loss 0.0399, acc 0.9757\n",
      "step 10000, loss 0.0602, acc 0.9766\n",
      "step 10500, loss 0.1542, acc 0.9757\n",
      "step 11000, loss 0.0368, acc 0.9759\n",
      "step 11500, loss 0.0146, acc 0.9779\n",
      "step 12000, loss 0.0905, acc 0.9777\n",
      "step 12500, loss 0.1214, acc 0.9745\n",
      "step 13000, loss 0.0873, acc 0.9760\n",
      "step 13500, loss 0.0085, acc 0.9787\n",
      "step 14000, loss 0.0774, acc 0.9798\n",
      "step 14500, loss 0.0549, acc 0.9763\n",
      "step 15000, loss 0.0063, acc 0.9791\n",
      "step 15500, loss 0.0080, acc 0.9818\n",
      "step 16000, loss 0.1088, acc 0.9781\n",
      "step 16500, loss 0.0125, acc 0.9816\n",
      "step 17000, loss 0.0702, acc 0.9755\n",
      "step 17500, loss 0.0077, acc 0.9796\n",
      "step 18000, loss 0.0050, acc 0.9802\n",
      "step 18500, loss 0.0131, acc 0.9814\n",
      "step 19000, loss 0.1349, acc 0.9817\n",
      "step 19500, loss 0.0299, acc 0.9808\n"
     ]
    }
   ],
   "source": [
    "with tf.Graph().as_default() as g:\n",
    "    inputs = tf.placeholder(shape=[None, 28, 28, 1], dtype=tf.float32)\n",
    "    labels = tf.placeholder(shape=[None, 10], dtype=tf.float32)\n",
    "    \n",
    "    conv1_weight = tf.get_variable(\n",
    "        'c1_w', [5, 5, 1, 8], dtype=tf.float32)\n",
    "    conv1_bias = tf.get_variable(\n",
    "        'c1_b', [8], dtype=tf.float32)\n",
    "    conv1_ = tf.nn.conv2d(\n",
    "        inputs, conv1_weight, [1, 1, 1, 1], 'VALID')\n",
    "    # shape=[None, 24, 24, 8]\n",
    "    conv1 = tf.nn.relu(conv1_ + conv1_bias)\n",
    "    \n",
    "    # shape=[None, 12, 12, 8]\n",
    "    pool1 = tf.nn.max_pool(\n",
    "        conv1, [1, 2, 2, 1], [1, 2, 2, 1], 'SAME')\n",
    "    \n",
    "    conv2_weight = tf.get_variable(\n",
    "        'c2_w', shape=[5, 5, 8, 16], dtype=tf.float32)\n",
    "    conv2_bias = tf.get_variable(\n",
    "        'c2_b', shape=[16], dtype=tf.float32)\n",
    "    conv2_ = tf.nn.conv2d(\n",
    "        pool1, conv2_weight, [1, 1, 1, 1], 'VALID')\n",
    "    # shape=[None, 8, 8, 16]\n",
    "    conv2 = tf.nn.relu(conv2_ + conv2_bias)\n",
    "    \n",
    "    # shape=[None, 4, 4, 16]\n",
    "    pool2 = tf.nn.max_pool(\n",
    "        conv2, [1, 2, 2, 1], [1, 2, 2, 1], 'SAME')\n",
    "    \n",
    "    tmp = tf.reshape(pool2, [-1, 4 * 4 * 16])\n",
    "    \n",
    "    logits = tf.keras.layers.Dense(\n",
    "        10, activation=None)(tmp)\n",
    "    output = tf.nn.softmax(logits)\n",
    "    \n",
    "    saver = tf.train.Saver()\n",
    "    \n",
    "    # 代价函数\n",
    "    loss = tf.reduce_mean(-1 * tf.reduce_sum(\n",
    "        labels * tf.log(output + 1e-7),\n",
    "        axis=1))\n",
    "    \n",
    "    \n",
    "    # 正确率\n",
    "    acc = tf.reduce_mean(\n",
    "        tf.cast(tf.equal(tf.argmax(labels, axis=1), tf.argmax(output, axis=1)),\n",
    "                tf.float32))\n",
    "\n",
    "\n",
    "with tf.Session(graph=g) as sess:\n",
    "    # 定义梯度下降法优化器\n",
    "    optim = tf.train.GradientDescentOptimizer(learning_rate=0.01)\n",
    "    train_op = optim.minimize(loss)\n",
    "    sess.run(tf.global_variables_initializer())\n",
    "    \n",
    "    # 训练模型\n",
    "    for step in range(20000):\n",
    "        batch_images, batch_labels = mnist.train.next_batch(32)\n",
    "        res_loss, _ = sess.run([loss, train_op], feed_dict={\n",
    "            inputs: batch_images,\n",
    "            labels: batch_labels\n",
    "        })\n",
    "        \n",
    "        # 输出代价并验证模型\n",
    "        if step % 500 == 0:\n",
    "            accs = []\n",
    "            for test_step in range(10000 // 32):\n",
    "                batch_images, batch_labels = mnist.test.next_batch(32)\n",
    "                res_acc = sess.run(acc, feed_dict={\n",
    "                    inputs: batch_images,\n",
    "                    labels: batch_labels\n",
    "                })\n",
    "                accs.append(res_acc)\n",
    "            accs = np.mean(accs)\n",
    "            print('step %5d, loss %2.4f, acc %.4f' % (step, res_loss, accs))"
   ]
  },
  {
   "cell_type": "code",
   "execution_count": null,
   "metadata": {},
   "outputs": [],
   "source": []
  }
 ],
 "metadata": {
  "kernelspec": {
   "display_name": "Python 3",
   "language": "python",
   "name": "python3"
  },
  "language_info": {
   "codemirror_mode": {
    "name": "ipython",
    "version": 3
   },
   "file_extension": ".py",
   "mimetype": "text/x-python",
   "name": "python",
   "nbconvert_exporter": "python",
   "pygments_lexer": "ipython3",
   "version": "3.7.0"
  }
 },
 "nbformat": 4,
 "nbformat_minor": 2
}
