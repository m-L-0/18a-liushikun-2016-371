{
 "cells": [
  {
   "cell_type": "code",
   "execution_count": 2,
   "metadata": {},
   "outputs": [
    {
     "name": "stderr",
     "output_type": "stream",
     "text": [
      "D:\\Users\\lsk\\Anaconda3\\lib\\site-packages\\h5py\\__init__.py:36: FutureWarning: Conversion of the second argument of issubdtype from `float` to `np.floating` is deprecated. In future, it will be treated as `np.float64 == np.dtype(float).type`.\n",
      "  from ._conv import register_converters as _register_converters\n"
     ]
    }
   ],
   "source": [
    "import tensorflow as tf\n",
    "a1 = tf.constant([1, 2, 3], name='const')\n",
    "a2 = tf.Variable([1, 2, 3], name='123')\n",
    "a3 = tf.add(1, 2, name='const_')"
   ]
  },
  {
   "cell_type": "code",
   "execution_count": 3,
   "metadata": {},
   "outputs": [
    {
     "name": "stdout",
     "output_type": "stream",
     "text": [
      "hello\n"
     ]
    }
   ],
   "source": [
    "op = tf.no_op(name='hello')\n",
    "print(op.name)"
   ]
  },
  {
   "cell_type": "code",
   "execution_count": 4,
   "metadata": {},
   "outputs": [
    {
     "name": "stdout",
     "output_type": "stream",
     "text": [
      "const_1:0\n"
     ]
    }
   ],
   "source": [
    "a = tf.constant([1, 2, 3], name='const')\n",
    "\n",
    "print(a.name)"
   ]
  },
  {
   "cell_type": "code",
   "execution_count": 5,
   "metadata": {},
   "outputs": [
    {
     "name": "stdout",
     "output_type": "stream",
     "text": [
      "con:0\n"
     ]
    }
   ],
   "source": [
    "a = tf.constant([1, 2, 3], name='con')\n",
    "\n",
    "print(a.name)"
   ]
  },
  {
   "cell_type": "code",
   "execution_count": 7,
   "metadata": {},
   "outputs": [
    {
     "name": "stdout",
     "output_type": "stream",
     "text": [
      "init\n"
     ]
    }
   ],
   "source": [
    "init = tf.global_variables_initializer()\n",
    "print(init.name) "
   ]
  },
  {
   "cell_type": "code",
   "execution_count": 8,
   "metadata": {},
   "outputs": [
    {
     "name": "stdout",
     "output_type": "stream",
     "text": [
      "my_add:0\n",
      "my_add_1:0\n"
     ]
    }
   ],
   "source": [
    "a1 = tf.add(1, 2, name='my_add')\n",
    "a2 = tf.add(3, 4, name='my_add')\n",
    "\n",
    "print(a1.name)\n",
    "print(a2.name) "
   ]
  },
  {
   "cell_type": "code",
   "execution_count": 9,
   "metadata": {},
   "outputs": [
    {
     "name": "stdout",
     "output_type": "stream",
     "text": [
      "add:0\n",
      "add:0\n"
     ]
    }
   ],
   "source": [
    "g1 = tf.Graph()\n",
    "with g1.as_default():\n",
    "    a1 = tf.add(1, 2, name='add')\n",
    "    print(a1.name) \n",
    "\n",
    "g2 = tf.Graph()\n",
    "with g2.as_default():\n",
    "    a2 = tf.add(1, 2, name='add')\n",
    "    print(a2.name) "
   ]
  },
  {
   "cell_type": "code",
   "execution_count": 10,
   "metadata": {},
   "outputs": [
    {
     "name": "stdout",
     "output_type": "stream",
     "text": [
      "Const_2:0\n"
     ]
    }
   ],
   "source": [
    "a1=tf.constant([1, 2])\n",
    "print(a1.name)"
   ]
  },
  {
   "cell_type": "code",
   "execution_count": 11,
   "metadata": {},
   "outputs": [
    {
     "name": "stdout",
     "output_type": "stream",
     "text": [
      "op_1:0\n",
      "op_1_1:0\n",
      "op_1_2:0\n",
      "123_1:0\n"
     ]
    }
   ],
   "source": [
    "a2=tf.add([1, 2], [3, 4], name='op_1')\n",
    "a3=tf.add([2, 3], [4, 5], name='op_1')\n",
    "a4=tf.mod([1, 3], [2, 4], name='op_1')\n",
    "a5=tf.slice([1, 2], [0], [1], name='123')\n",
    "print(a2.name)\n",
    "print(a3.name)\n",
    "print(a4.name)\n",
    "print(a5.name)"
   ]
  },
  {
   "cell_type": "code",
   "execution_count": 12,
   "metadata": {},
   "outputs": [],
   "source": [
    "g1 = tf.Graph()\n",
    "with g1.as_default():\n",
    "    a = tf.add(3, 5)\n",
    "    b = tf.multiply(a, 10)\n",
    "    \n",
    "with tf.Session(graph=g1) as sess:\n",
    "    sess.run(b)"
   ]
  },
  {
   "cell_type": "code",
   "execution_count": 13,
   "metadata": {},
   "outputs": [],
   "source": [
    "g1 = tf.Graph()\n",
    "with g1.as_default():\n",
    "    tf.add(3, 5, name='add')\n",
    "    tf.multiply(g1.get_tensor_by_name('add:0'), 10, name='mul')\n",
    "    \n",
    "with tf.Session(graph=g1) as sess:\n",
    "    sess.run(g1.get_tensor_by_name('mul:0'))"
   ]
  },
  {
   "cell_type": "code",
   "execution_count": 14,
   "metadata": {},
   "outputs": [],
   "source": [
    "#使用了tf.Graph.get_tensor_by_name方法。可以根据name获取Tensor"
   ]
  },
  {
   "cell_type": "code",
   "execution_count": 15,
   "metadata": {},
   "outputs": [],
   "source": [
    "g1 = tf.Graph()\n",
    "with g1.as_default():\n",
    "    tf.add(3, 5, name='add')\n",
    "    tf.multiply(g1.get_tensor_by_name('add:0'), 10, name='mul')\n",
    "    \n",
    "with tf.Session(graph=g1) as sess:\n",
    "    sess.run(g1.get_operation_by_name('mul')) "
   ]
  },
  {
   "cell_type": "code",
   "execution_count": 16,
   "metadata": {},
   "outputs": [
    {
     "name": "stdout",
     "output_type": "stream",
     "text": [
      "const_3:0\n"
     ]
    }
   ],
   "source": [
    "a = tf.constant(1, name='const')\n",
    "print(a.name) "
   ]
  },
  {
   "cell_type": "code",
   "execution_count": 19,
   "metadata": {},
   "outputs": [
    {
     "name": "stdout",
     "output_type": "stream",
     "text": [
      "scope_name_1/\n",
      "scope_name_1/const:0\n"
     ]
    }
   ],
   "source": [
    "with tf.name_scope('scope_name') as name:\n",
    "    print(name) \n",
    "    b = tf.constant(1, name='const')\n",
    "    print(b.name)"
   ]
  },
  {
   "cell_type": "code",
   "execution_count": 20,
   "metadata": {},
   "outputs": [
    {
     "name": "stdout",
     "output_type": "stream",
     "text": [
      "name/var:0\n",
      "var2:0\n"
     ]
    }
   ],
   "source": [
    "with tf.name_scope('name'):\n",
    "    var = tf.Variable([1, 2], name='var')\n",
    "    print(var.name)  \n",
    "    var2 = tf.get_variable(name='var2', shape=[2, ])\n",
    "    print(var2.name)"
   ]
  },
  {
   "cell_type": "code",
   "execution_count": 21,
   "metadata": {},
   "outputs": [
    {
     "name": "stdout",
     "output_type": "stream",
     "text": [
      "abc/const:0\n"
     ]
    }
   ],
   "source": [
    "with tf.variable_scope('abc') as scope:\n",
    "    a = tf.constant(1, name='const')\n",
    "    print(a.name)"
   ]
  },
  {
   "cell_type": "code",
   "execution_count": 22,
   "metadata": {},
   "outputs": [
    {
     "name": "stdout",
     "output_type": "stream",
     "text": [
      "abc\n",
      "abc\n"
     ]
    }
   ],
   "source": [
    "g = tf.Graph()\n",
    "with g.as_default():\n",
    "    with tf.variable_scope('abc') as scope:\n",
    "        print(scope.name) \n",
    "        \n",
    "        n_scope = g.get_name_scope()\n",
    "        print(n_scope)"
   ]
  },
  {
   "cell_type": "code",
   "execution_count": 24,
   "metadata": {},
   "outputs": [
    {
     "name": "stdout",
     "output_type": "stream",
     "text": [
      "abc\n",
      "abc\n",
      "abc\n",
      "abc_1\n"
     ]
    }
   ],
   "source": [
    "g = tf.Graph()\n",
    "with g.as_default():\n",
    "    with tf.variable_scope('abc') as scope:\n",
    "        print(scope.name)  \n",
    "        n_scope = g.get_name_scope()\n",
    "        print(n_scope)\n",
    "        \n",
    "    with tf.variable_scope('abc') as scope:\n",
    "        print(scope.name) \n",
    "        n_scope = g.get_name_scope()\n",
    "        print(n_scope) "
   ]
  },
  {
   "cell_type": "code",
   "execution_count": 25,
   "metadata": {},
   "outputs": [],
   "source": [
    "with tf.variable_scope('scope', reuse=None) as scope:\n",
    "    # 此时reuse=None，可以用来创建变量\n",
    "    tf.get_variable('var', dtype=tf.float32, shape=[])\n",
    "    scope.reuse_variables()\n",
    "    var = tf.get_variable('var')"
   ]
  },
  {
   "cell_type": "code",
   "execution_count": 27,
   "metadata": {},
   "outputs": [
    {
     "name": "stdout",
     "output_type": "stream",
     "text": [
      "[1.0, [0.1]]\n"
     ]
    }
   ],
   "source": [
    "with tf.variable_scope('my_scope', \n",
    "                       initializer=tf.ones_initializer,\n",
    "                       regularizer=tf.keras.regularizers.l1(0.1),\n",
    "                       dtype=tf.float32):\n",
    "    var = tf.get_variable('var', shape=[])\n",
    "    reg = tf.losses.get_regularization_losses()\n",
    "\n",
    "with tf.Session() as sess:\n",
    "    sess.run(tf.global_variables_initializer())\n",
    "    print(sess.run([var, reg]))"
   ]
  },
  {
   "cell_type": "code",
   "execution_count": 28,
   "metadata": {},
   "outputs": [
    {
     "data": {
      "text/plain": [
       "<tensorflow.python.keras.regularizers.L1L2 at 0x180bdfb3e48>"
      ]
     },
     "execution_count": 28,
     "metadata": {},
     "output_type": "execute_result"
    }
   ],
   "source": [
    "# 1范数正则化\n",
    "tf.keras.regularizers.l1(l=0.01)\n",
    "# 2范数正则化\n",
    "tf.keras.regularizers.l2(l=0.01)\n",
    "# 1范数2范数正则化\n",
    "tf.keras.regularizers.l1_l2(l1=0.01, l2=0.01)"
   ]
  },
  {
   "cell_type": "code",
   "execution_count": 31,
   "metadata": {},
   "outputs": [
    {
     "name": "stdout",
     "output_type": "stream",
     "text": [
      "[[5.0000000e-01 9.9987662e-01 1.2339458e-04]\n",
      " [7.3105860e-01 8.8079703e-01 9.5257413e-01]]\n"
     ]
    }
   ],
   "source": [
    "import tensorflow as tf\n",
    "input_data = tf.Variable( [[0, 9, -9],[1,2,3]] , dtype = tf.float32 )\n",
    "output = tf.nn.sigmoid(input_data)\n",
    "with tf.Session() as sess:\n",
    "    init = tf.initialize_all_variables()\n",
    "    sess.run(init)\n",
    "    print(sess.run(output))"
   ]
  },
  {
   "cell_type": "code",
   "execution_count": null,
   "metadata": {},
   "outputs": [],
   "source": []
  }
 ],
 "metadata": {
  "kernelspec": {
   "display_name": "Python 3",
   "language": "python",
   "name": "python3"
  },
  "language_info": {
   "codemirror_mode": {
    "name": "ipython",
    "version": 3
   },
   "file_extension": ".py",
   "mimetype": "text/x-python",
   "name": "python",
   "nbconvert_exporter": "python",
   "pygments_lexer": "ipython3",
   "version": "3.6.5"
  }
 },
 "nbformat": 4,
 "nbformat_minor": 2
}
