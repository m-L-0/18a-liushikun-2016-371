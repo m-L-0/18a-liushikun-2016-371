{
 "cells": [
  {
   "cell_type": "code",
   "execution_count": 2,
   "metadata": {},
   "outputs": [
    {
     "name": "stderr",
     "output_type": "stream",
     "text": [
      "D:\\Users\\lsk\\Anaconda3\\lib\\site-packages\\h5py\\__init__.py:36: FutureWarning: Conversion of the second argument of issubdtype from `float` to `np.floating` is deprecated. In future, it will be treated as `np.float64 == np.dtype(float).type`.\n",
      "  from ._conv import register_converters as _register_converters\n"
     ]
    },
    {
     "name": "stdout",
     "output_type": "stream",
     "text": [
      "[1 2]\n"
     ]
    }
   ],
   "source": [
    "import tensorflow as tf\n",
    "with tf.Session() as sess:\n",
    "    res = tf.where(tf.constant([True, False]), \n",
    "         tf.constant([1, 1]), \n",
    "         tf.constant([2, 2]))\n",
    "    print(sess.run(res))"
   ]
  },
  {
   "cell_type": "code",
   "execution_count": 7,
   "metadata": {},
   "outputs": [],
   "source": [
    "def smooth_l1_loss(bbox_pred, bbox_targets, bbox_inside_weights, bbox_outside_weights, sigma=1.0, dim=[1]):\n",
    "    sigma_2 = sigma ** 2\n",
    "    box_diff = bbox_pred - bbox_targets\n",
    "    in_box_diff = bbox_inside_weights * box_diff\n",
    "    abs_in_box_diff = tf.abs(in_box_diff)\n",
    "    # tf.less 返回 True or False； a<b,返回True， 否则返回False。\n",
    "    smoothL1_sign = tf.stop_gradient(tf.to_float(tf.less(abs_in_box_diff, 1. / sigma_2)))\n",
    "    # 实现公式中的条件分支\n",
    "    in_loss_box = tf.pow(in_box_diff, 2) * (sigma_2 / 2.) * smoothL1_sign + (abs_in_box_diff - (0.5 / sigma_2)) * (1. - smoothL1_sign)\n",
    "    out_loss_box = bbox_outside_weights * in_loss_box\n",
    "    loss_box = tf.reduce_mean(tf.reduce_sum(out_loss_box, axis=dim))\n",
    "    return loss_box"
   ]
  },
  {
   "cell_type": "code",
   "execution_count": 4,
   "metadata": {},
   "outputs": [
    {
     "name": "stdout",
     "output_type": "stream",
     "text": [
      "0.0\n",
      "0.0\n",
      "0.0\n",
      "0.0\n",
      "0.0\n"
     ]
    }
   ],
   "source": [
    "x = tf.Variable(0.)\n",
    "x_plus_1 = tf.assign_add(x, 1)\n",
    "\n",
    "with tf.control_dependencies([x_plus_1]):\n",
    "    y = x\n",
    "\n",
    "with tf.Session() as sess:\n",
    "    sess.run(tf.global_variables_initializer())\n",
    "    for i in range(5):\n",
    "        print(sess.run(y))"
   ]
  },
  {
   "cell_type": "code",
   "execution_count": 6,
   "metadata": {},
   "outputs": [],
   "source": [
    "a = tf.Variable(0.)\n",
    "b = tf.Variable(0.)\n",
    "c = tf.Variable(0.)\n",
    "\n",
    "assign_a = a.assign_add(1.)\n",
    "assign_b = b.assign_sub(1.)\n",
    "assign_c = c.assign_add(2.)\n",
    "\n",
    "assign_op = tf.group([assign_a, assign_b, assign_c])\n",
    "d = a + b + c\n",
    "\n",
    "with tf.Session() as sess:\n",
    "    sess.run(tf.global_variables_initializer())\n",
    "    sess.run(assign_op)\n",
    "    sess.run(d) "
   ]
  },
  {
   "cell_type": "code",
   "execution_count": 8,
   "metadata": {},
   "outputs": [
    {
     "name": "stdout",
     "output_type": "stream",
     "text": [
      "1\n",
      "0\n"
     ]
    }
   ],
   "source": [
    "cond = tf.Variable(True)\n",
    "def true_fn():\n",
    "    return tf.constant(1)\n",
    "\n",
    "def false_fn():\n",
    "    return tf.constant(0)\n",
    "\n",
    "result = tf.cond(cond, true_fn, false_fn)\n",
    "\n",
    "with tf.Session() as sess:\n",
    "    sess.run(tf.global_variables_initializer())\n",
    "    print(sess.run(result)) \n",
    "    sess.run(cond.assign(False))\n",
    "    print(sess.run(result)) "
   ]
  },
  {
   "cell_type": "code",
   "execution_count": 9,
   "metadata": {},
   "outputs": [],
   "source": [
    "def step(x):\n",
    "    x = tf.convert_to_tensor(x)\n",
    "    \n",
    "    def greater_zero_fn():\n",
    "        return tf.constant(1)\n",
    "    def equal_zero_fn():\n",
    "        return tf.constant(0)\n",
    "    def less_zero_fn():\n",
    "        return tf.constant(-1)\n",
    "    \n",
    "    less_equal = tf.cond(x < 0, less_zero_fn, equal_zero_fn)\n",
    "    result = tf.cond(x > 0, greater_zero_fn, lambda: less_equal)\n",
    "    \n",
    "    return result"
   ]
  },
  {
   "cell_type": "code",
   "execution_count": 10,
   "metadata": {},
   "outputs": [],
   "source": [
    "x=step(0)"
   ]
  },
  {
   "cell_type": "code",
   "execution_count": 11,
   "metadata": {},
   "outputs": [],
   "source": [
    "def step_case(x):\n",
    "    x = tf.convert_to_tensor(x)\n",
    "    \n",
    "    case_greater = (x > 0, lambda: tf.constant(1))\n",
    "    case_equal = (tf.equal(x, 0), lambda: tf.constant(0))\n",
    "    case_less = (x < 0, lambda: tf.constant(-1))\n",
    "    \n",
    "    return tf.case([case_greater, case_equal, case_less])"
   ]
  },
  {
   "cell_type": "code",
   "execution_count": 16,
   "metadata": {},
   "outputs": [],
   "source": [
    "# i用于记录训练次数\n",
    "i = tf.constant(0)\n",
    "n = tf.constant(10)\n",
    "# 定义一个变量也用来记录循环次数，每次body执行，就加1\n",
    "run_times = tf.Variable(0)  \n",
    "\n",
    "def cond(i, n):\n",
    "    return i < n\n",
    "\n",
    "def body(i, n):\n",
    "    i = i + 1\n",
    "    # 给var增量赋值\n",
    "    global run_times\n",
    "    run_times.assign_add(1)\n",
    "    return i, n\n",
    "\n",
    "result_i, result_n = tf.while_loop(cond, body, [i, n])"
   ]
  },
  {
   "cell_type": "code",
   "execution_count": 17,
   "metadata": {},
   "outputs": [],
   "source": [
    "i = tf.constant(0)\n",
    "n = tf.constant(10)\n",
    "# 定义一个变量用来记录循环次数\n",
    "run_times = tf.Variable(0)  \n",
    "\n",
    "def cond(i, n):\n",
    "    return i < n\n",
    "\n",
    "def body(i, n):\n",
    "    # 给var增量赋值\n",
    "    global run_times\n",
    "    assign_op = run_times.assign_add(1)\n",
    "    # 添加控制依赖\n",
    "    with tf.control_dependencies([assign_op]):\n",
    "        i = i + 1\n",
    "    return i, n\n",
    "\n",
    "result_i, result_n = tf.while_loop(cond, body, [i, n])"
   ]
  },
  {
   "cell_type": "code",
   "execution_count": 19,
   "metadata": {},
   "outputs": [
    {
     "name": "stdout",
     "output_type": "stream",
     "text": [
      "[3 5 3]\n",
      "[1 3 3]\n"
     ]
    }
   ],
   "source": [
    "import tensorflow as tf;    \n",
    "\n",
    "a = [1,5,3]  \n",
    "\n",
    "f1 = tf.maximum(a, 3)  \n",
    "f2 = tf.minimum(a, 3)  \n",
    "\n",
    "with tf.Session() as sess:  \n",
    "    print (sess.run(f1))\n",
    "    print (sess.run(f2))  "
   ]
  },
  {
   "cell_type": "code",
   "execution_count": 21,
   "metadata": {},
   "outputs": [
    {
     "name": "stdout",
     "output_type": "stream",
     "text": [
      "3\n",
      "[[2.4 3.5]\n",
      " [2.4 3.5]\n",
      " [2.4 3.5]]\n"
     ]
    }
   ],
   "source": [
    "import tensorflow as tf \n",
    "\n",
    "def condition(time, output_ta_l): \n",
    "    return tf.less(time, 3) \n",
    "\n",
    "def body(time, output_ta_l): \n",
    "    output_ta_l = output_ta_l.write(time, [2.4, 3.5])\n",
    "    return time + 1, output_ta_l\n",
    "\n",
    "time = tf.constant(0) \n",
    "output_ta = tf.TensorArray(dtype=tf.float32, size=1, dynamic_size=True)\n",
    "result = tf.while_loop(condition, body, loop_vars=[time, output_ta]) \n",
    "last_time, last_out = result \n",
    "final_out = last_out.stack() \n",
    "\n",
    "with tf.Session(): \n",
    "    print(last_time.eval()) \n",
    "    print(final_out.eval())\n"
   ]
  },
  {
   "cell_type": "code",
   "execution_count": 30,
   "metadata": {},
   "outputs": [
    {
     "name": "stdout",
     "output_type": "stream",
     "text": [
      "[ True  True False]\n"
     ]
    }
   ],
   "source": [
    "import tensorflow as tf;    \n",
    "\n",
    "a = [1,5,3]  \n",
    "b = [2,6,2]\n",
    "f1 = tf.less(a, b)   \n",
    "\n",
    "with tf.Session() as sess:  \n",
    "    print (sess.run(f1))"
   ]
  },
  {
   "cell_type": "code",
   "execution_count": 25,
   "metadata": {},
   "outputs": [],
   "source": [
    "def step(x):\n",
    "    x = tf.convert_to_tensor(x)\n",
    "    def greater_zero_fn():\n",
    "        return tf.constant(1)\n",
    "    def equal_zero_fn():\n",
    "        return tf.constant(0)\n",
    "    def less_zero_fn():\n",
    "        return tf.constant(-1)  \n",
    "    less_equal = tf.cond(x < 0, less_zero_fn, equal_zero_fn)\n",
    "    result = tf.cond(x > 0, greater_zero_fn, lambda: less_equal)\n",
    "    \n",
    "    return result"
   ]
  },
  {
   "cell_type": "code",
   "execution_count": 26,
   "metadata": {},
   "outputs": [
    {
     "name": "stdout",
     "output_type": "stream",
     "text": [
      "Tensor(\"cond_4/Merge:0\", shape=(), dtype=int32)\n"
     ]
    }
   ],
   "source": [
    "print(step(50))"
   ]
  },
  {
   "cell_type": "code",
   "execution_count": null,
   "metadata": {},
   "outputs": [],
   "source": []
  }
 ],
 "metadata": {
  "kernelspec": {
   "display_name": "Python 3",
   "language": "python",
   "name": "python3"
  },
  "language_info": {
   "codemirror_mode": {
    "name": "ipython",
    "version": 3
   },
   "file_extension": ".py",
   "mimetype": "text/x-python",
   "name": "python",
   "nbconvert_exporter": "python",
   "pygments_lexer": "ipython3",
   "version": "3.6.5"
  }
 },
 "nbformat": 4,
 "nbformat_minor": 2
}
